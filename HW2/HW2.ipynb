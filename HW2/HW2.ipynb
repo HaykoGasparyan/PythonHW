{
 "cells": [
  {
   "cell_type": "code",
   "execution_count": null,
   "metadata": {},
   "outputs": [],
   "source": [
    "# prob 1\n",
    "def max_func(*args):\n",
    "    if args == ():\n",
    "        return \"No numbers given.\"\n",
    "    res = args[0]\n",
    "    for arg in args:\n",
    "        if arg > res:\n",
    "            res = arg\n",
    "    return res\n",
    "\n",
    "max_func()"
   ]
  },
  {
   "cell_type": "code",
   "execution_count": 2,
   "metadata": {},
   "outputs": [
    {
     "name": "stdout",
     "output_type": "stream",
     "text": [
      "<u> Hi, it's me! </u>\n"
     ]
    }
   ],
   "source": [
    "# prob 2\n",
    "def decorator2(f):\n",
    "    def wrapper():\n",
    "        str = f()\n",
    "        print('<u>', str, '</u>')\n",
    "    return wrapper\n",
    "\n",
    "def decorator(f):\n",
    "    def wrapper():\n",
    "        return f() + \", it's me!\"\n",
    "    return wrapper\n",
    "\n",
    "\n",
    "@decorator2\n",
    "@decorator\n",
    "def hi_func():\n",
    "    return \"Hi\"\n",
    "\n",
    "hi_func()"
   ]
  },
  {
   "cell_type": "code",
   "execution_count": 4,
   "metadata": {},
   "outputs": [
    {
     "name": "stdout",
     "output_type": "stream",
     "text": [
      "0\n",
      "1\n",
      "2\n",
      "3\n",
      "4\n",
      "5\n",
      "6\n",
      "7\n",
      "8\n",
      "9\n",
      "There are no values left.\n"
     ]
    }
   ],
   "source": [
    "# prob 3\n",
    "def range_n(n):\n",
    "    for i in range(n):\n",
    "        yield(i)\n",
    "    yield \"There are no values left.\"\n",
    "    \n",
    "num = range_n(10)\n",
    "for i in range(11):\n",
    "    print(next(num))"
   ]
  },
  {
   "cell_type": "code",
   "execution_count": 7,
   "metadata": {},
   "outputs": [
    {
     "name": "stdout",
     "output_type": "stream",
     "text": [
      "You bought juice and spent 30\n"
     ]
    }
   ],
   "source": [
    "import Customer\n",
    "%run Customer.py"
   ]
  },
  {
   "cell_type": "code",
   "execution_count": null,
   "metadata": {},
   "outputs": [],
   "source": []
  }
 ],
 "metadata": {
  "kernelspec": {
   "display_name": "Python 3",
   "language": "python",
   "name": "python3"
  },
  "language_info": {
   "codemirror_mode": {
    "name": "ipython",
    "version": 3
   },
   "file_extension": ".py",
   "mimetype": "text/x-python",
   "name": "python",
   "nbconvert_exporter": "python",
   "pygments_lexer": "ipython3",
   "version": "3.8.5"
  }
 },
 "nbformat": 4,
 "nbformat_minor": 4
}
