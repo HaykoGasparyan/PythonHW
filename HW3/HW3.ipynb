{
 "cells": [
  {
   "cell_type": "code",
   "execution_count": 1,
   "metadata": {},
   "outputs": [],
   "source": [
    "class Car:\n",
    "    def __init__(self, model, color, max_speed):\n",
    "        self.model = model\n",
    "        self.color = color\n",
    "        self.max_speed = max_speed\n",
    "        \n",
    "    def CompareCar(self, car2):\n",
    "        if self.max_speed > car2.max_speed:\n",
    "            return 'Car 1 is better than Car 2'\n",
    "        else:\n",
    "            return 'Car 2 is better than Car 1'\n",
    "        \n",
    "    "
   ]
  },
  {
   "cell_type": "code",
   "execution_count": 58,
   "metadata": {},
   "outputs": [],
   "source": [
    "class Person:\n",
    "    def __init__(self, name, last_name, age, gender, student, password):\n",
    "        self.name = name\n",
    "        self.last_name = last_name\n",
    "        self.age = age\n",
    "        self.gender = gender\n",
    "        self.student = student\n",
    "        self.__pasword = password\n",
    "        \n",
    "    def get_pass(self):\n",
    "        return self.__pasword\n",
    "    \n",
    "    def set_pass(self, password):\n",
    "        self.__pasword = password\n",
    "        \n",
    "    def Greetings(self, p):\n",
    "        return 'Welcome Dear {}'.format(p.name)\n",
    " \n",
    "    def GoodBye(self):\n",
    "        return 'Bye everyone!'\n",
    "        \n",
    "    def Favourite_num(self, num1):\n",
    "        return 'My favourite number is {}'.format(num1)\n",
    "        \n",
    "    def Read_file(self, filename):\n",
    "        with open(filename + '.txt', 'r') as f:\n",
    "            print(f.read())\n",
    "    "
   ]
  },
  {
   "cell_type": "code",
   "execution_count": 59,
   "metadata": {},
   "outputs": [],
   "source": [
    "c = Car('bmw', 'black', '350')\n",
    "c2 = Car('Mercedes', 'black', '300')\n",
    "c.CompareCar(c2)\n",
    "\n",
    "p1 = Person('Hayk', 'Gasparyan', '21', 'Male', True, 'hayk123')\n",
    "p2 = Person('Lilit', 'Ketikyan', '22', 'Female', True, 'lilit123')"
   ]
  },
  {
   "cell_type": "code",
   "execution_count": 60,
   "metadata": {},
   "outputs": [
    {
     "data": {
      "text/plain": [
       "'Welcome Dear Lilit'"
      ]
     },
     "execution_count": 60,
     "metadata": {},
     "output_type": "execute_result"
    }
   ],
   "source": [
    "p1.Greetings(p2)"
   ]
  },
  {
   "cell_type": "code",
   "execution_count": 61,
   "metadata": {},
   "outputs": [
    {
     "name": "stdout",
     "output_type": "stream",
     "text": [
      "gag\n"
     ]
    }
   ],
   "source": [
    "p1.Read_file('test')"
   ]
  },
  {
   "cell_type": "code",
   "execution_count": null,
   "metadata": {},
   "outputs": [],
   "source": []
  }
 ],
 "metadata": {
  "kernelspec": {
   "display_name": "Python 3",
   "language": "python",
   "name": "python3"
  },
  "language_info": {
   "codemirror_mode": {
    "name": "ipython",
    "version": 3
   },
   "file_extension": ".py",
   "mimetype": "text/x-python",
   "name": "python",
   "nbconvert_exporter": "python",
   "pygments_lexer": "ipython3",
   "version": "3.8.5"
  }
 },
 "nbformat": 4,
 "nbformat_minor": 4
}
