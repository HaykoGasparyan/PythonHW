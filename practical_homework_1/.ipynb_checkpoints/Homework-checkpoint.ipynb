{
 "cells": [
  {
   "cell_type": "code",
   "execution_count": 2,
   "metadata": {},
   "outputs": [],
   "source": [
    "import cv2 as cv"
   ]
  },
  {
   "cell_type": "code",
   "execution_count": 3,
   "metadata": {},
   "outputs": [],
   "source": [
    "pic1 = cv.imread('pic1.jpg')\n",
    "pic2 = cv.imread('pic2.jpg')\n",
    "pic3 = cv.imread('pic3.jpg')\n",
    "\n",
    "cv.imshow('pic1', pic1)\n",
    "cv.imshow('pic2', pic2)\n",
    "cv.imshow('pic3', pic3)\n",
    "\n",
    "cv.waitKey(0)"
   ]
  },
  {
   "cell_type": "code",
   "execution_count": 1,
   "metadata": {},
   "outputs": [],
   "source": [
    "capture = cv.VideoCapture('vid1.mp4')\n",
    "\n",
    "#using a loop to read the video frame by frame\n",
    "\n",
    "while True:\n",
    "    isTrue, frame = capture.read() #returns the frames and a boolean indicating if it was successfully read\n",
    "    \n",
    "    #we will get an error at the end, cause when the video ends, openCV cannot find the frame\n",
    "    #same happens when we give a wrong path to an image\n",
    "    #cv.imshow('Video', frame) \n",
    "    \n",
    "    \n",
    "    #we use this to not get an error when the video ends\n",
    "    #if frame is not None:\n",
    "    if isTrue:\n",
    "        cv.imshow('Video', frame)\n",
    "    else:\n",
    "        print('empty frame')\n",
    "        exit(1)\n",
    "    \n",
    "    #we don't want the video to display forever\n",
    "    #when the letter 'd' is pressed, break out of the loop\n",
    "    if cv.waitKey(20) & 0xFF == ord('d'):\n",
    "        break\n",
    "\n",
    "capture.release()\n",
    "cv.destroyAllWindows() #distroying all windows since we don't need them anymore\n",
    "    \n",
    "cv.waitKey(0)"
   ]
  },
  {
   "cell_type": "code",
   "execution_count": 2,
   "metadata": {},
   "outputs": [],
   "source": [
    "def rescaleFrame(frame, scale = 0.75):\n",
    "    \n",
    "    width = int(frame.shape[1] * scale)\n",
    "    height = int(frame.shape[0] * scale)\n",
    "    dimensions = (width, height)\n",
    "    \n",
    "    return cv.resize(frame, dimensions, interpolation=cv.INTER_AREA) #will talk more about this later"
   ]
  },
  {
   "cell_type": "code",
   "execution_count": 9,
   "metadata": {},
   "outputs": [],
   "source": [
    "scaled = rescaleFrame(pic1, scale=0.5)\n",
    "\n",
    "cv.imshow('original', pic1)\n",
    "cv.imshow('rescaled', scaled)\n",
    "\n",
    "cv.waitKey(0)"
   ]
  },
  {
   "cell_type": "code",
   "execution_count": 2,
   "metadata": {},
   "outputs": [],
   "source": [
    "capture = cv.VideoCapture('vid1.mp4')\n",
    "\n",
    "\n",
    "while True:\n",
    "    isTrue, frame = capture.read() #returns the frams and a boolean indicarting if it was successfully read\n",
    "    \n",
    "    \n",
    "    if frame is not None: #or if isTrue\n",
    "        frame_rescaled = rescaleFrame(frame, 0.5)\n",
    "        cv.imshow('Video', frame)\n",
    "        cv.imshow('Video_rescaled', frame_rescaled)\n",
    "    else:\n",
    "        print('empty frame')\n",
    "        exit(1)\n",
    "    \n",
    "    #we don't want the video to display forever\n",
    "    #when the letter 'd' is pressed, break out of the loop\n",
    "    if cv.waitKey(20) & 0xFF == ord('d'):\n",
    "        break\n",
    "\n",
    "capture.release()\n",
    "cv.destroyAllWindows() #distroying all windows since we don't need them anymore\n",
    "    \n",
    "cv.waitKey(0)"
   ]
  },
  {
   "cell_type": "code",
   "execution_count": 3,
   "metadata": {},
   "outputs": [
    {
     "data": {
      "text/plain": [
       "100"
      ]
     },
     "execution_count": 3,
     "metadata": {},
     "output_type": "execute_result"
    }
   ],
   "source": [
    "center = (pic2.shape[0]//2, pic2.shape[1]//2)\n",
    "radius = min(pic2.shape[0]//4, pic2.shape[1]//4)\n",
    "\n",
    "cv.circle(pic2, center, radius, (0, 0, 255), thickness = -1)\n",
    "cv.imshow('Circle', pic2)\n",
    "pic2 = cv.imread('pic2.jpg')\n",
    "cv.imshow('Original', pic2)\n",
    "cv.waitKey(0)"
   ]
  },
  {
   "cell_type": "code",
   "execution_count": 4,
   "metadata": {},
   "outputs": [
    {
     "data": {
      "text/plain": [
       "100"
      ]
     },
     "execution_count": 4,
     "metadata": {},
     "output_type": "execute_result"
    }
   ],
   "source": [
    "cv.rectangle(pic2, (pic2.shape[1]//4, pic2.shape[0]//4), (pic2.shape[1]//2, pic2.shape[0]//2), (0, 128, 255), thickness = 2)\n",
    "cv.imshow('Rect', pic2)\n",
    "pic2 = cv.imread('pic2.jpg')\n",
    "cv.imshow('Original', pic2)\n",
    "cv.waitKey(0)"
   ]
  },
  {
   "cell_type": "code",
   "execution_count": 4,
   "metadata": {},
   "outputs": [
    {
     "data": {
      "text/plain": [
       "100"
      ]
     },
     "execution_count": 4,
     "metadata": {},
     "output_type": "execute_result"
    }
   ],
   "source": [
    "cv.line(pic3, (0, pic3.shape[1]), (pic3.shape[0], 0), (0, 255, 0))\n",
    "cv.imshow('Line', pic3)\n",
    "pic3 = cv.imread('pic3.jpg')\n",
    "cv.imshow('Original', pic3)\n",
    "cv.waitKey(0)"
   ]
  },
  {
   "cell_type": "code",
   "execution_count": null,
   "metadata": {},
   "outputs": [],
   "source": []
  }
 ],
 "metadata": {
  "kernelspec": {
   "display_name": "Python 3",
   "language": "python",
   "name": "python3"
  },
  "language_info": {
   "codemirror_mode": {
    "name": "ipython",
    "version": 3
   },
   "file_extension": ".py",
   "mimetype": "text/x-python",
   "name": "python",
   "nbconvert_exporter": "python",
   "pygments_lexer": "ipython3",
   "version": "3.8.5"
  }
 },
 "nbformat": 4,
 "nbformat_minor": 4
}
